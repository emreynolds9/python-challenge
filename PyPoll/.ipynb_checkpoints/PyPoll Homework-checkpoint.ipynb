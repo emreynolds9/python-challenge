{
 "cells": [
  {
   "cell_type": "code",
   "execution_count": 63,
   "metadata": {},
   "outputs": [
    {
     "name": "stdout",
     "output_type": "stream",
     "text": [
      "Election Results\n",
      "-------------------------\n",
      "Total Votes: 3521001\n",
      "-------------------------\n",
      "Khan: 63.0% (2218231)\n",
      "Correy: 20.0% (704200)\n",
      "Li: 14.0% (492940)\n",
      "O'Tooley: 3.0% (105630)\n",
      "-------------------------\n",
      "Winner: Khan\n",
      "-------------------------\n"
     ]
    }
   ],
   "source": [
    "import csv\n",
    "import os\n",
    "from statistics import mode\n",
    "\n",
    "with open('Resources/election_data.csv') as csvfile:\n",
    "    readCSV = csv.reader(csvfile, delimiter=',')\n",
    "    headerline = next(readCSV)\n",
    "\n",
    "    votes = []\n",
    "    candidates = []\n",
    "    counties = []\n",
    "    can0 =[]   \n",
    "    can1 =[]\n",
    "    can2 = []\n",
    "    can3 =[]\n",
    "    \n",
    "    currentwinner = []\n",
    "    \n",
    "    for row in readCSV:\n",
    "#The total number of votes cast        \n",
    "        votes.append(row[2])\n",
    "\n",
    "# A unique list of candidates who received votes        \n",
    "        if row[2] not in candidates:\n",
    "            candidates.append(row[2])\n",
    "            \n",
    "# The percentage of votes each candidate won\n",
    "\n",
    "        if row[2] == candidates[0]:\n",
    "            can0.append(row[0])\n",
    "#             currentwinner.append(candidates[0])\n",
    "        elif row[2] == candidates[1]:        \n",
    "            can1.append(row[0])\n",
    "#             if len(can2):\n",
    "        elif row[2] == candidates[2]:\n",
    "            can2.append(row[0])\n",
    "        else: can3.append(row[0])\n",
    "        \n",
    "votetotal = (len(votes))\n",
    "\n",
    "\n",
    "print(\"Election Results\")\n",
    "print(\"-------------------------\")\n",
    "print(\"Total Votes: \"+str(votetotal))\n",
    "print(\"-------------------------\")\n",
    "print(f\"{candidates[0]}: {round((len(can0)/votetotal*100),2)}% ({len(can0)})\")\n",
    "print(f\"{candidates[1]}: {round((len(can1)/votetotal*100),2)}% ({len(can1)})\")\n",
    "print(f\"{candidates[2]}: {round((len(can2)/votetotal*100),2)}% ({len(can2)})\")\n",
    "print(f\"{candidates[3]}: {round((len(can3)/votetotal*100),2)}% ({len(can3)})\")\n",
    "print(\"-------------------------\")\n",
    "print(f\"Winner: \"+(mode(votes)))\n",
    "print(\"-------------------------\")\n"
   ]
  },
  {
   "cell_type": "code",
   "execution_count": null,
   "metadata": {},
   "outputs": [],
   "source": []
  },
  {
   "cell_type": "code",
   "execution_count": null,
   "metadata": {},
   "outputs": [],
   "source": []
  },
  {
   "cell_type": "code",
   "execution_count": null,
   "metadata": {},
   "outputs": [],
   "source": []
  }
 ],
 "metadata": {
  "kernelspec": {
   "display_name": "Python 3",
   "language": "python",
   "name": "python3"
  },
  "language_info": {
   "codemirror_mode": {
    "name": "ipython",
    "version": 3
   },
   "file_extension": ".py",
   "mimetype": "text/x-python",
   "name": "python",
   "nbconvert_exporter": "python",
   "pygments_lexer": "ipython3",
   "version": "3.7.1"
  }
 },
 "nbformat": 4,
 "nbformat_minor": 2
}

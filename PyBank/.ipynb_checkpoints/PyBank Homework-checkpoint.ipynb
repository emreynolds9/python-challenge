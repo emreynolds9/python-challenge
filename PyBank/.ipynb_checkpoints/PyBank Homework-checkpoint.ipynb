{
 "cells": [
  {
   "cell_type": "code",
   "execution_count": 72,
   "metadata": {},
   "outputs": [
    {
     "name": "stdout",
     "output_type": "stream",
     "text": [
      "Financial Analysis\n",
      "---------------------------\n",
      "Total Months: 86\n",
      "Total: $38382578.0\n",
      "Average  Change: $446309.0465116279\n",
      "Greatest Increase in Profits: Feb-12, $1170593.0\n",
      "Greatest Decrease in Profits: Sep-13, $-1196225.0\n"
     ]
    }
   ],
   "source": [
    "import csv\n",
    "import os\n",
    "\n",
    "\n",
    "with open('Resources/budgetdata.csv') as csvfile:\n",
    "    readCSV = csv.reader(csvfile, delimiter=',')\n",
    "    headerline = next(readCSV)\n",
    "    dates = []\n",
    "    amounts = []\n",
    "    runningtotal=0\n",
    "    \n",
    "    for row in readCSV:\n",
    "\n",
    "        amount = float(row[1])\n",
    "        date = row[0]\n",
    "        \n",
    "        amounts.append(amount)\n",
    "        dates.append(date)\n",
    "        runningtotal += amount\n",
    "        \n",
    "maxindex = amounts.index(max(amounts))\n",
    "minindex = amounts.index(min(amounts))\n",
    "\n",
    "\n",
    "\n",
    "print(\"Financial Analysis\")\n",
    "print(\"---------------------------\")\n",
    "print(\"Total Months: \"+str(len(dates)))\n",
    "print(\"Total: $\"+str(runningtotal))\n",
    "print(\"Average  Change: $\"+str(runningtotal/len(dates)))\n",
    "print(\"Greatest Increase in Profits: \"+str(dates[maxindex])+\", $\"+str(max(amounts)))\n",
    "print(\"Greatest Decrease in Profits: \"+str(dates[minindex])+\", $\"+str(min(amounts)))\n"
   ]
  },
  {
   "cell_type": "code",
   "execution_count": null,
   "metadata": {},
   "outputs": [],
   "source": []
  },
  {
   "cell_type": "code",
   "execution_count": null,
   "metadata": {},
   "outputs": [],
   "source": []
  }
 ],
 "metadata": {
  "kernelspec": {
   "display_name": "Python 3",
   "language": "python",
   "name": "python3"
  },
  "language_info": {
   "codemirror_mode": {
    "name": "ipython",
    "version": 3
   },
   "file_extension": ".py",
   "mimetype": "text/x-python",
   "name": "python",
   "nbconvert_exporter": "python",
   "pygments_lexer": "ipython3",
   "version": "3.7.1"
  }
 },
 "nbformat": 4,
 "nbformat_minor": 2
}

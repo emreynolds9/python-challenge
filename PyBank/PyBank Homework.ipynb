{
 "cells": [
  {
   "cell_type": "code",
   "execution_count": 77,
   "metadata": {},
   "outputs": [
    {
     "name": "stdout",
     "output_type": "stream",
     "text": [
      "Financial Analysis\n",
      "---------------------------\n",
      "Total Months: 86\n",
      "Total: $38382578\n",
      "Average  Change: $446309.05\n",
      "Greatest Increase in Profits: Feb-12 ($1170593)\n",
      "Greatest Decrease in Profits: Sep-13 ($-1196225)\n"
     ]
    }
   ],
   "source": [
    "import csv\n",
    "import os\n",
    "\n",
    "\n",
    "with open('Resources/budgetdata.csv') as csvfile:\n",
    "    readCSV = csv.reader(csvfile, delimiter=',')\n",
    "    headerline = next(readCSV)\n",
    "    \n",
    "    dates = []\n",
    "    netchanges = []\n",
    "    \n",
    "    runningtotal=0\n",
    "    \n",
    "    for row in readCSV:\n",
    "        amounts.append(int(row[1]))\n",
    "        dates.append(row[0])\n",
    "        runningtotal += int(row[1])\n",
    "    \n",
    "analysis=(\"Financial Analysis\\n---------------------------\"\n",
    "      \"\\nTotal Months: \"+str(len(dates))+\n",
    "      \"\\nTotal: $\"+str(runningtotal)+\n",
    "      \"\\nAverage  Change: $\"+str(round(runningtotal/len(dates),2))+\n",
    "      \"\\nGreatest Increase in Profits: \"+str(dates[amounts.index(max(amounts))])+\" ($\"+str(max(amounts))+\n",
    "      \")\\nGreatest Decrease in Profits: \"+str(dates[amounts.index(min(amounts))])+\" ($\"+str(min(amounts))+\")\")\n",
    "\n",
    "print(analysis)\n",
    "\n",
    "file = open(\"PyBank text file.txt\",\"w\")\n",
    "\n",
    "file.write(analysis)\n",
    "\n",
    "file.close()\n",
    "    "
   ]
  },
  {
   "cell_type": "code",
   "execution_count": null,
   "metadata": {},
   "outputs": [],
   "source": []
  },
  {
   "cell_type": "code",
   "execution_count": null,
   "metadata": {},
   "outputs": [],
   "source": []
  },
  {
   "cell_type": "code",
   "execution_count": null,
   "metadata": {},
   "outputs": [],
   "source": []
  }
 ],
 "metadata": {
  "kernelspec": {
   "display_name": "Python 3",
   "language": "python",
   "name": "python3"
  },
  "language_info": {
   "codemirror_mode": {
    "name": "ipython",
    "version": 3
   },
   "file_extension": ".py",
   "mimetype": "text/x-python",
   "name": "python",
   "nbconvert_exporter": "python",
   "pygments_lexer": "ipython3",
   "version": "3.7.1"
  }
 },
 "nbformat": 4,
 "nbformat_minor": 2
}
